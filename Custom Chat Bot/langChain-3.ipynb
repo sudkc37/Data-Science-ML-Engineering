{
  "nbformat": 4,
  "nbformat_minor": 0,
  "metadata": {
    "colab": {
      "provenance": []
    },
    "kernelspec": {
      "name": "python3",
      "display_name": "Python 3"
    },
    "language_info": {
      "name": "python"
    }
  },
  "cells": [
    {
      "cell_type": "code",
      "source": [
        "!pip install langchain==0.1.1 openai==1.8.0 langchain-openai tiktoken faiss-cpu\n",
        "!pip install PyPDF"
      ],
      "metadata": {
        "id": "sOYW1ZwFJTod"
      },
      "execution_count": null,
      "outputs": []
    },
    {
      "cell_type": "code",
      "source": [
        "from google.colab import files\n",
        "from IPython.display import Image"
      ],
      "metadata": {
        "id": "0F6z_5eQ4aEt"
      },
      "execution_count": 2,
      "outputs": []
    },
    {
      "cell_type": "code",
      "execution_count": 3,
      "metadata": {
        "id": "hWJLub-gaLX3"
      },
      "outputs": [],
      "source": [
        "import os\n",
        "import getpass\n",
        "from langchain_community.document_loaders import PyPDFLoader\n",
        "from langchain.text_splitter import RecursiveCharacterTextSplitter\n",
        "from langchain_openai import OpenAIEmbeddings\n",
        "from langchain.vectorstores import FAISS\n",
        "from langchain.chains import RetrievalQA\n",
        "from langchain.prompts import PromptTemplate\n",
        "from langchain_openai import ChatOpenAI"
      ]
    },
    {
      "cell_type": "code",
      "source": [
        "os.environ[\"OPENAI_API_KEY\"] = getpass.getpass('Enter API Key ')"
      ],
      "metadata": {
        "colab": {
          "base_uri": "https://localhost:8080/"
        },
        "id": "EnrWgBTfaOwn",
        "outputId": "de2c4dd5-bfd8-4354-d704-9d1833d83950"
      },
      "execution_count": 4,
      "outputs": [
        {
          "name": "stdout",
          "output_type": "stream",
          "text": [
            "Enter API Key ··········\n"
          ]
        }
      ]
    },
    {
      "cell_type": "markdown",
      "source": [
        "Suppose you want to obtain very specific information from your own documents or proprietary information, and you decide to use Chat-GPT to ask for it. The obvious response you will receive is, \"I can't access specific personal data, including financial information.\" This is where LangChain comes in to shine. LangChain is an open-source orchestration framework utilized for developing applications with Large Language Models. It facilitates the integration of LLMs with custom sources of computation and data."
      ],
      "metadata": {
        "id": "xRgEk7q3wrpe"
      }
    },
    {
      "cell_type": "markdown",
      "source": [
        "To accomplish this, we input the documents we want the language model to reference. We then divide them into smaller chunks using Recursive Character Text Splitter, convert them into embeddings to characterize each piece of text based on its semantic meaning, and store them as a vector database."
      ],
      "metadata": {
        "id": "IapFx7sZ6Dcb"
      }
    },
    {
      "cell_type": "code",
      "source": [
        "files.upload()\n",
        "Image(\"image.png\")"
      ],
      "metadata": {
        "colab": {
          "base_uri": "https://localhost:8080/",
          "height": 262
        },
        "id": "XJX4wFnf5FPb",
        "outputId": "65cd4234-00f9-4ca5-acc7-064a0838025e"
      },
      "execution_count": null,
      "outputs": [
        {
          "output_type": "execute_result",
          "data": {
            "image/png": "[encoded data removed]",
            "text/plain": [
              "<IPython.core.display.Image object>"
            ]
          },
          "metadata": {},
          "execution_count": 63
        }
      ]
    },
    {
      "cell_type": "markdown",
      "source": [
        "Image Scouce: https://betterprogramming.pub/building-a-multi-document-reader-and-chatbot-with-langchain-and-chatgpt-d1864d47e339')"
      ],
      "metadata": {
        "id": "OUKSZRT55OOc"
      }
    },
    {
      "cell_type": "code",
      "source": [
        "class CustomLLM:\n",
        "    pass\n",
        "\n",
        "class Embedding(CustomLLM):\n",
        "    def __init__(self, pdf_paths):\n",
        "        self.pdf_paths = pdf_paths\n",
        "\n",
        "    def load_pdf(self):                #upload documents, url\n",
        "      self.pages = []\n",
        "      for pdf_path in self.pdf_paths:\n",
        "        fl = PyPDFLoader(pdf_path)\n",
        "        pages = fl.load_and_split()\n",
        "        self.pages.extend(pages)\n",
        "\n",
        "    def chunking(self):               #splitting into small chunk\n",
        "        text_chunking = RecursiveCharacterTextSplitter(\n",
        "            chunk_size=1135,\n",
        "            chunk_overlap=100,\n",
        "            add_start_index=True,\n",
        "            separators=['\\n\\n','\\n','.',';',',',' ','','..'],\n",
        "        )\n",
        "        self.split = text_chunking.split_documents(self.pages)\n",
        "\n",
        "    def embedding(self):               #embedding\n",
        "        embedding = OpenAIEmbeddings()\n",
        "        self.vectorstore = FAISS.from_documents(documents=self.split, embedding=embedding)"
      ],
      "metadata": {
        "id": "0pNtsslgcxCq"
      },
      "execution_count": 21,
      "outputs": []
    },
    {
      "cell_type": "markdown",
      "source": [
        "It's time to integrate external documents with the pre-trained large language model. We're leveraging OpenAI's GPT-4 for this purpose. We'll employ RetrievalQA to enhance the model's ability to generate responses grounded in a broader and more current understanding of the context.\n"
      ],
      "metadata": {
        "id": "6xG_NvTVB98x"
      }
    },
    {
      "cell_type": "code",
      "source": [
        "class Chain(CustomLLM):\n",
        "    def __init__(self, template, embedding_instance):\n",
        "        self.template = template\n",
        "        self.embedding_instance = embedding_instance\n",
        "\n",
        "    def prompt_chain(self):\n",
        "        QA_CHAIN_PROMPT = PromptTemplate.from_template(self.template)\n",
        "        llm = ChatOpenAI(model_name=\"gpt-4-0125-preview\", temperature=0)\n",
        "\n",
        "        self.qa_chain = RetrievalQA.from_chain_type(\n",
        "            llm,\n",
        "            retriever=self.embedding_instance.vectorstore.as_retriever(),\n",
        "            chain_type_kwargs={\"prompt\": QA_CHAIN_PROMPT}\n",
        "        )\n",
        "\n",
        "    def query(self, query_text):\n",
        "        return self.qa_chain.invoke({\"query\": query_text})"
      ],
      "metadata": {
        "id": "jzvblAynVAHc"
      },
      "execution_count": 22,
      "outputs": []
    },
    {
      "cell_type": "code",
      "source": [
        "template = \"\"\"\n",
        "Use the following pieces of context to answer the question at the end.\n",
        "If you don't know the answer, just say 'you don't know'. don't try to make up an answer.\n",
        "Use five sentence maximum, relevent analogies, and keep the answer as concise as possible.\n",
        "Use the active voice, and speak directly to the reader using concise language.\n",
        "{context}\n",
        "\n",
        "Question: {question}\n",
        "\n",
        "Helpful Answer:\n",
        "\n",
        "\"\"\""
      ],
      "metadata": {
        "id": "ReRWn4riEbsD"
      },
      "execution_count": 23,
      "outputs": []
    },
    {
      "cell_type": "code",
      "source": [
        "path = [\"sudip.pdf\", \"prevent_cancer.pdf\", \"image.pdf\", \"image_2023.pdf\"]"
      ],
      "metadata": {
        "id": "RTI29HEFHX1t"
      },
      "execution_count": 24,
      "outputs": []
    },
    {
      "cell_type": "code",
      "source": [
        "embedding_instance = Embedding(path)\n",
        "embedding_instance.load_pdf()\n",
        "embedding_instance.chunking()\n",
        "embedding_instance.embedding()"
      ],
      "metadata": {
        "collapsed": true,
        "id": "43xlgFdUEcfD"
      },
      "execution_count": null,
      "outputs": []
    },
    {
      "cell_type": "code",
      "source": [
        "chain_instance = Chain(template, embedding_instance)\n",
        "chain_instance.prompt_chain()"
      ],
      "metadata": {
        "id": "5F4co0uzEj1F"
      },
      "execution_count": 13,
      "outputs": []
    },
    {
      "cell_type": "markdown",
      "source": [
        "We utilized our vector store as a source, which the chain accessed to retrieve only the relevant text based on our question. It then sent that information exclusively within the LLM prompt. The hierarchical image below illustrates the process transpiring in the background."
      ],
      "metadata": {
        "id": "eHYhpp0LASZq"
      }
    },
    {
      "cell_type": "code",
      "source": [
        "files.upload()\n",
        "Image('image3.png')"
      ],
      "metadata": {
        "colab": {
          "base_uri": "https://localhost:8080/",
          "height": 360
        },
        "id": "UXLKlkpU6gYU",
        "outputId": "dcff9cf3-f2a4-4e10-ec14-be219a3dab5b"
      },
      "execution_count": null,
      "outputs": [
        {
          "output_type": "execute_result",
          "data": {
            "image/png": "[encoded data removed]",
            "text/plain": [
              "<IPython.core.display.Image object>"
            ]
          },
          "metadata": {},
          "execution_count": 67
        }
      ]
    },
    {
      "cell_type": "markdown",
      "source": [
        "Image Scouce: https://betterprogramming.pub/building-a-multi-document-reader-and-chatbot-with-langchain-and-chatgpt-d1864d47e339')"
      ],
      "metadata": {
        "id": "5qVk2oh9E0nR"
      }
    },
    {
      "cell_type": "code",
      "source": [
        "chain_instance.query(\"What is the risk of cancer, If I smoke cigerate?\")"
      ],
      "metadata": {
        "colab": {
          "base_uri": "https://localhost:8080/"
        },
        "id": "sEWLc4V7EndZ",
        "outputId": "32e3fa25-887a-4010-c3cc-a359bb5e9d9c"
      },
      "execution_count": 14,
      "outputs": [
        {
          "output_type": "execute_result",
          "data": {
            "text/plain": [
              "{'query': 'What is the risk of cancer, If I smoke cigerate?',\n",
              " 'result': \"If you smoke cigarettes, your risk of developing cancer significantly increases. Smoking is directly responsible for a large percentage of cancer deaths, including 85% to 90% of lung cancer deaths and substantial percentages of deaths from oral, laryngeal, esophageal, bladder, kidney, pancreatic, stomach, and cervical cancers. The risk depends on several factors such as the duration of smoking, the number of cigarettes smoked per day, and the age at which you started smoking. However, quitting smoking at any age can reduce your risk of dying from smoking-related illnesses and can lower the risk of developing a second cancer if you've already been diagnosed with cancer. Cigarette smoke contains over 60 established carcinogens, including polycyclic aromatic hydrocarbons and N-nitrosamines, which are directly linked to increasing cancer risk.\"}"
            ]
          },
          "metadata": {},
          "execution_count": 14
        }
      ]
    },
    {
      "cell_type": "markdown",
      "source": [
        "GPT-4 has been extensively trained on vast corpora of text, making it unsurprising that it can provide answers regarding cancer and cigarettes. To ensure the proper chaining of our embeddings and language models, I have incorporated a file containing personalized information not found on the web and not included in GPT's training data. This also guarantees its suitability for customers/internals question-answering applications tailored to our business needs."
      ],
      "metadata": {
        "id": "jimgNvUeJ0ZW"
      }
    },
    {
      "cell_type": "code",
      "source": [
        "chain_instance.query(\"where was Sudip khadka born\")"
      ],
      "metadata": {
        "colab": {
          "base_uri": "https://localhost:8080/"
        },
        "id": "rHHaewYKFuOE",
        "outputId": "90a039c1-ec7a-42a4-8807-340b41f01b38"
      },
      "execution_count": null,
      "outputs": [
        {
          "output_type": "execute_result",
          "data": {
            "text/plain": [
              "{'query': 'where was Sudip khadka born',\n",
              " 'result': 'Sudip Khadka was born in Nepal.'}"
            ]
          },
          "metadata": {},
          "execution_count": 50
        }
      ]
    },
    {
      "cell_type": "code",
      "source": [
        "chain_instance.query(\"Does he has any degree\")"
      ],
      "metadata": {
        "colab": {
          "base_uri": "https://localhost:8080/"
        },
        "id": "1yD2JAzknjQg",
        "outputId": "bf0789ed-197d-4b67-f51b-093e012132c7"
      },
      "execution_count": null,
      "outputs": [
        {
          "output_type": "execute_result",
          "data": {
            "text/plain": [
              "{'query': 'Does he has any degree',\n",
              " 'result': 'Yes, Sudip Khadka has a degree from the University of Maryland, College Park.'}"
            ]
          },
          "metadata": {},
          "execution_count": 51
        }
      ]
    },
    {
      "cell_type": "code",
      "source": [
        "chain_instance.query(\"What is his nationality\")"
      ],
      "metadata": {
        "colab": {
          "base_uri": "https://localhost:8080/"
        },
        "id": "g9VzCZ_ZLcpt",
        "outputId": "18546899-7c5a-4a17-9091-7fa9b6c40ef0"
      },
      "execution_count": null,
      "outputs": [
        {
          "output_type": "execute_result",
          "data": {
            "text/plain": [
              "{'query': 'What is his nationality',\n",
              " 'result': \"Sudip Khadka's nationality is Nepalese.\"}"
            ]
          },
          "metadata": {},
          "execution_count": 52
        }
      ]
    },
    {
      "cell_type": "markdown",
      "source": [
        "This was just a simple example; now let's move on to the real use case. Although Arista Networks is a publicly traded company, for this scenario, we will treat it as if it were a private company. We agument latest 10-k's to our database, all files in the database are considered confidential and were not used during the training of GPT-4."
      ],
      "metadata": {
        "id": "BwnkSq3ClgOO"
      }
    },
    {
      "cell_type": "code",
      "source": [
        "query = \"what was the net income of Arista Network for 2022, 2023\"\n",
        "chain_instance.query(query)"
      ],
      "metadata": {
        "colab": {
          "base_uri": "https://localhost:8080/"
        },
        "id": "RZG2VtwPq0oq",
        "outputId": "3d2bd799-9783-48bb-8b45-4b1f298c4c47"
      },
      "execution_count": 16,
      "outputs": [
        {
          "output_type": "execute_result",
          "data": {
            "text/plain": [
              "{'query': 'what was the net income of Arista Network for 2022, 2023',\n",
              " 'result': 'The net income of Arista Networks for 2022 was $1,352,446 (in thousands), and for 2023, it was $2,087,321 (in thousands).'}"
            ]
          },
          "metadata": {},
          "execution_count": 16
        }
      ]
    },
    {
      "cell_type": "code",
      "source": [
        "query = \"Who are the competitors of Arista Network?\"\n",
        "chain_instance.query(query)"
      ],
      "metadata": {
        "colab": {
          "base_uri": "https://localhost:8080/"
        },
        "id": "OrPSyflWnqKH",
        "outputId": "e5fb4755-4691-4e50-f649-ef4426216100"
      },
      "execution_count": 15,
      "outputs": [
        {
          "output_type": "execute_result",
          "data": {
            "text/plain": [
              "{'query': 'Who are the competitors of Arista Network?',\n",
              " 'result': 'Arista Networks, Inc. competes with several key players in the networking and data center industry. Major competitors include Cisco Systems, Inc., known for its vast range of networking hardware and software solutions. Juniper Networks, Inc. is another competitor, specializing in high-performance networking & cybersecurity solutions. Hewlett Packard Enterprise (HPE), through its networking division, also poses competition, offering similar networking hardware and software products. Lastly, VMware, Inc., with its focus on cloud computing and virtualization technology, competes in overlapping areas of network virtualization and management.'}"
            ]
          },
          "metadata": {},
          "execution_count": 15
        }
      ]
    },
    {
      "cell_type": "code",
      "source": [
        "query = \"How does the Arista Network performance compare to competitors?\"\n",
        "chain_instance.query(query)"
      ],
      "metadata": {
        "colab": {
          "base_uri": "https://localhost:8080/"
        },
        "id": "xC4eYAbFrKVo",
        "outputId": "bde5bf6a-6384-4124-e32f-7cd1e468f6d4"
      },
      "execution_count": 17,
      "outputs": [
        {
          "output_type": "execute_result",
          "data": {
            "text/plain": [
              "{'query': 'How does the Arista Network performance compare to competitors?',\n",
              " 'result': \"Arista Networks differentiates itself from competitors through its focus on uncompromising quality, advanced open and standards-based technology, and a robust quality assurance capability. Its core, the Arista EOS, is a modernized networking operating system that, along with merchant silicon, provides a competitive edge in price/performance and time to market. Arista's platforms are designed for scalability, enabling networks to support hundreds of thousands of servers and millions of virtual machines efficiently. The use of merchant silicon helps Arista to quickly adapt to next-generation technologies, benefiting from improvements in performance and cost. Overall, Arista's approach to cloud networking solutions offers high capacity, performance, and scale, positioning it strongly against competitors.\"}"
            ]
          },
          "metadata": {},
          "execution_count": 17
        }
      ]
    },
    {
      "cell_type": "code",
      "source": [
        "query = \"What operational challenges and risks were highlighted for 2023 by Arista Network?\"\n",
        "chain_instance.query(query)"
      ],
      "metadata": {
        "colab": {
          "base_uri": "https://localhost:8080/"
        },
        "id": "UAs_hAmbrisA",
        "outputId": "70899806-48e6-4d8d-b31c-9134cde5a2d8"
      },
      "execution_count": 18,
      "outputs": [
        {
          "output_type": "execute_result",
          "data": {
            "text/plain": [
              "{'query': 'What operational challenges and risks were highlighted for 2023 by Arista Network?',\n",
              " 'result': 'Arista Network highlighted operational challenges and risks for 2023 related to the need for operational efficiency and the total cost of ownership. The company emphasized the critical role of automation in achieving operational efficiency, pointing out that manual tasks in network management are burdensome and hinder agility in network infrastructure changes. Additionally, Arista underscored the importance of reducing the total cost of ownership through programmable, scalable leaf-spine architectures and applications that offer improved time to service and availability compared to legacy network designs. These challenges are addressed by Arista through their CloudVision management platform, which automates network operations, and their portfolio of products designed to lower networking costs and enhance operational efficiency.'}"
            ]
          },
          "metadata": {},
          "execution_count": 18
        }
      ]
    },
    {
      "cell_type": "code",
      "source": [
        "query = \"What are the strengths, weaknesses, opportunities, and threats of Arista Network for 2023?\"\n",
        "chain_instance.query(query)"
      ],
      "metadata": {
        "colab": {
          "base_uri": "https://localhost:8080/"
        },
        "id": "WoZ_W29gvJCH",
        "outputId": "a961da7f-3a1b-41b0-e47c-c0d2d073ba45"
      },
      "execution_count": 19,
      "outputs": [
        {
          "output_type": "execute_result",
          "data": {
            "text/plain": [
              "{'query': 'What are the strengths, weaknesses, opportunities, and threats of Arista Network for 2023?',\n",
              " 'result': 'Arista Networks, a leader in high-performance networking solutions, boasts strengths in its innovative technology and strong customer base in data centers and cloud computing. However, its weaknesses lie in intense competition from larger companies and potential supply chain disruptions. Opportunities for Arista include expansion into emerging markets and the growing demand for cloud networking solutions. Threats facing Arista in 2023 include technological obsolescence due to rapid industry advancements and potential regulatory challenges. In summary, while Arista is well-positioned with its innovative offerings, it must navigate a competitive landscape and external risks to maintain its growth trajectory.'}"
            ]
          },
          "metadata": {},
          "execution_count": 19
        }
      ]
    },
    {
      "cell_type": "code",
      "source": [
        "chain_instance.query(\n",
        "    \"What is the breakdown of assets, liabilities, and equity for 2023?\")"
      ],
      "metadata": {
        "colab": {
          "base_uri": "https://localhost:8080/"
        },
        "id": "03-WrfaGwB6s",
        "outputId": "2b78801c-0255-4044-ab21-cbd6b1b10596"
      },
      "execution_count": null,
      "outputs": [
        {
          "output_type": "execute_result",
          "data": {
            "text/plain": [
              "{'query': 'What is the breakdown of assets, liabilities, and equity for 2023?',\n",
              " 'result': \"For 2023, the breakdown is as follows:\\n\\n- **Total Assets**: $6,775,410 thousand. This includes current assets like cash and cash equivalents, marketable securities, accounts receivable, inventories, and other current assets; long-term assets such as property and equipment, acquisition-related intangible assets, goodwill, investments, and other assets.\\n  \\n- **Total Liabilities**: $1,889,590 thousand. This encompasses current liabilities (accounts payable, accrued liabilities, deferred revenue, other current liabilities), income taxes payable, non-current operating lease liabilities, non-current deferred revenue, non-current deferred tax liabilities, and other long-term liabilities.\\n\\n- **Stockholders’ Equity**: The exact figure for stockholders' equity in 2023 isn't directly provided in the given context. However, it can be inferred by subtracting total liabilities from total assets, assuming the balance sheet follows the basic accounting equation (Assets = Liabilities + Equity). Given the total assets and liabilities, one can calculate the equity, but without the explicit numbers for equity contributions or distributions in 2023, the precise breakdown into retained earnings, additional paid-in capital, etc., cannot be detailed from the provided information.\"}"
            ]
          },
          "metadata": {},
          "execution_count": 35
        }
      ]
    },
    {
      "cell_type": "code",
      "source": [
        "chain_instance.query(\n",
        "    \"What are the future growth prospects and strategic plans?\")"
      ],
      "metadata": {
        "colab": {
          "base_uri": "https://localhost:8080/"
        },
        "id": "8GjU-Nv2xvid",
        "outputId": "07649810-68be-4a00-e4a3-25fa4453f5c2"
      },
      "execution_count": null,
      "outputs": [
        {
          "output_type": "execute_result",
          "data": {
            "text/plain": [
              "{'query': 'What are the future growth prospects and strategic plans?',\n",
              " 'result': 'The company plans to expand its sales force, marketing efforts, and partnerships to drive growth. It aims to scale operations and manufacturing, invest in research and development, and adapt technology efficiently. The focus is on entering new markets like AI Ethernet switching, campus workspaces, enterprise data centers, and security markets, while maintaining leadership in the networking industry. Challenges include managing expansion, competition, price sensitivity, and external factors like geopolitical tensions and economic downturns. Overall, the company is optimistic about its growth prospects, leveraging innovation and market expansion strategies.'}"
            ]
          },
          "metadata": {},
          "execution_count": 37
        }
      ]
    },
    {
      "cell_type": "markdown",
      "source": [
        " Langchain serves as a versatile tool that goes beyond simply addressing customer inquiries. Its functionality extends to handling internal queries as well. Within an organizational context, Langchain can serve as a repository for a comprehensive knowledge base encompassing financial policies, procedures, and optimal practices. Moreover, it plays a pivotal role in addressing staff queries pertaining to financial policies and historical data that are restricted from external dissemination. By leveraging langchain, organizations can effectively streamline their internal operations while ensuring adherence to regulatory standards and promoting efficient decision-making processes.\n",
        "\n",
        "  Further, To access the most up-to-date information beyond our internal database and pre-trained large language model, we can use Retrieval-Augmented Generation (RAG). This approach allows us to retrieve current data directly from web databases."
      ],
      "metadata": {
        "id": "vi-jUqozo6dP"
      }
    },
    {
      "cell_type": "code",
      "source": [],
      "metadata": {
        "id": "nA5I0PoewBgd"
      },
      "execution_count": 20,
      "outputs": []
    },
    {
      "cell_type": "code",
      "source": [
        "!jupyter nbconvert --to html /content/langChain-2.ipynb"
      ],
      "metadata": {
        "colab": {
          "base_uri": "https://localhost:8080/"
        },
        "id": "CWSRe_byJkcs",
        "outputId": "741bd5a9-0746-436f-ddc1-90e2913673e3"
      },
      "execution_count": 20,
      "outputs": [
        {
          "output_type": "stream",
          "name": "stdout",
          "text": [
            "[NbConvertApp] Converting notebook /content/langChain-2.ipynb to html\n",
            "[NbConvertApp] Writing 658018 bytes to /content/langChain-2.html\n"
          ]
        }
      ]
    },
    {
      "cell_type": "code",
      "source": [],
      "metadata": {
        "id": "iGrXyZ2HJpYC"
      },
      "execution_count": null,
      "outputs": []
    }
  ]
}